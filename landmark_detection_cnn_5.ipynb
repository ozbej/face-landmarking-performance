{
  "nbformat": 4,
  "nbformat_minor": 0,
  "metadata": {
    "colab": {
      "name": "landmark_detection_cnn_5.ipynb",
      "provenance": [],
      "collapsed_sections": []
    },
    "kernelspec": {
      "name": "python3",
      "display_name": "Python 3"
    },
    "language_info": {
      "name": "python"
    },
    "accelerator": "GPU"
  },
  "cells": [
    {
      "cell_type": "code",
      "execution_count": null,
      "metadata": {
        "id": "Gfh9XrxE48Ny"
      },
      "outputs": [],
      "source": [
        "from imutils import face_utils\n",
        "import dlib\n",
        "import cv2\n",
        "import os\n",
        "from scipy.spatial import distance\n",
        "import numpy as np\n",
        "from math import sqrt\n",
        "import tensorflow as tf\n",
        "from google.colab import drive"
      ]
    },
    {
      "cell_type": "code",
      "source": [
        "def get_landmarks_gt(path):\n",
        "    landmarks_gt = list()\n",
        "    f = open(path, \"r\")\n",
        "    lines = f.readlines()\n",
        "    for i, line in enumerate(lines):\n",
        "        if i < 3 or i == len(lines)-1: continue\n",
        "        x_gt, y_gt = line.split()\n",
        "        landmarks_gt.append(np.array([float(x_gt), float(y_gt)]))\n",
        "    return np.array(landmarks_gt)"
      ],
      "metadata": {
        "id": "hIlIHJ6r5RNn"
      },
      "execution_count": null,
      "outputs": []
    },
    {
      "cell_type": "code",
      "source": [
        "def get_annotated_face(rects, landmarks_gt):\n",
        "    rect_dict = dict()\n",
        "    for i, face in enumerate(rects):\n",
        "        c = 0\n",
        "        x = face.rect.left()\n",
        "        y = face.rect.top()\n",
        "        w = face.rect.right() - x\n",
        "        h = face.rect.bottom() - y\n",
        "        for (x_gt, y_gt) in landmarks_gt:\n",
        "            if (x <= x_gt <= x + w or x >= x_gt >= x + w) and (y <= y_gt <= y + h or y >= y_gt >= y + h):\n",
        "                c += 1\n",
        "        rect_dict[i] = c\n",
        "    max_key = max(rect_dict, key=rect_dict.get)\n",
        "    if rect_dict[max_key] / 5 < 0.5:\n",
        "      return rects[max_key].rect, True\n",
        "    return rects[max_key].rect, False"
      ],
      "metadata": {
        "id": "qSRg2Gy_5R7x"
      },
      "execution_count": null,
      "outputs": []
    },
    {
      "cell_type": "code",
      "source": [
        "def get_iod(landmarks):\n",
        "    # Left eye center\n",
        "    x_left = landmarks[2][0] + landmarks[3][0]\n",
        "    y_left = landmarks[2][1] + landmarks[3][1]\n",
        "    centroid_left = (int(x_left / 2), int(y_left / 2))\n",
        "    # Right eye center\n",
        "    x_right = landmarks[0][0] + landmarks[1][0]\n",
        "    y_right = landmarks[0][1] + landmarks[1][1]\n",
        "    centroid_right = (int(x_right / 2), int(y_right / 2))\n",
        "    # IOD\n",
        "    return distance.euclidean(centroid_left, centroid_right)"
      ],
      "metadata": {
        "id": "aL-PISfN5TpB"
      },
      "execution_count": null,
      "outputs": []
    },
    {
      "cell_type": "code",
      "source": [
        "detector = dlib.cnn_face_detection_model_v1(\"./drive/MyDrive/mmod_human_face_detector.dat\")\n",
        "predictor = dlib.shape_predictor(\"./drive/MyDrive/shape_predictor_5_face_landmarks.dat\")"
      ],
      "metadata": {
        "id": "uRaNAsho5Y3g"
      },
      "execution_count": null,
      "outputs": []
    },
    {
      "cell_type": "code",
      "source": [
        "input_dir = \"/content/drive/MyDrive/SB_datasets/ibug/ibug_masked/\"\n",
        "output_dir = \"./data/\""
      ],
      "metadata": {
        "id": "193SDa185ibo"
      },
      "execution_count": null,
      "outputs": []
    },
    {
      "cell_type": "code",
      "source": [
        "nrmse_global = list()\n",
        "count_incorrect = 0\n",
        "count_all = 0\n",
        "\n",
        "for count, filename in enumerate(os.listdir(input_dir)):\n",
        "    if not (filename.__contains__(\".jpg\") or filename.__contains__(\".png\")): continue\n",
        "    error = False\n",
        "    count_all += 1\n",
        "    print(\"Processing: %s (%d)\" % (filename, count_all))\n",
        "\n",
        "    filename_s = os.path.splitext(filename)[0]\n",
        "    landmarks_5 = [45, 42, 36, 39, 33]\n",
        "    landmarks_gt = get_landmarks_gt(input_dir+filename_s+\".pts\")\n",
        "    landmarks_gt = landmarks_gt[landmarks_5]\n",
        "\n",
        "    image = cv2.imread(input_dir+filename)\n",
        "    rgb = cv2.cvtColor(image, cv2.COLOR_BGR2RGB)\n",
        "\n",
        "    # Draw all ground truth landmarks\n",
        "    for (x, y) in landmarks_gt:\n",
        "        cv2.circle(image, (int(x), int(y)), 2, (0, 0, 255), -1)\n",
        "\n",
        "    # Get faces\n",
        "    rects = detector(rgb, 0)\n",
        "    for face in rects:\n",
        "      x = face.rect.left()\n",
        "      y = face.rect.top()\n",
        "      w = face.rect.right() - x\n",
        "      h = face.rect.bottom() - y\n",
        "      cv2.rectangle(image, (x, y), (x + w, y + h), (255, 255, 0), 2)\n",
        "    if len(rects) == 0:\n",
        "      cv2.imwrite(output_dir+\"errors/\"+filename, image)\n",
        "      count_incorrect += 1\n",
        "      continue\n",
        "    else:\n",
        "      face, error = get_annotated_face(rects, landmarks_gt)\n",
        "      if error:\n",
        "          count_incorrect += 1\n",
        "\n",
        "    # Make the prediction and transform it to numpy array\n",
        "    landmarks = predictor(rgb, face)\n",
        "    landmarks = face_utils.shape_to_np(landmarks)\n",
        "\n",
        "    # IOD\n",
        "    iod = get_iod(landmarks)\n",
        "\n",
        "    distances = list()\n",
        "    # Draw all predicted landmarks\n",
        "    for i, (x, y) in enumerate(landmarks):\n",
        "        cv2.circle(image, (x, y), 2, (0, 255, 0), -1)\n",
        "        distance_normalized = (distance.euclidean(landmarks[i], landmarks_gt[i]) / iod)**2\n",
        "        distances.append(distance_normalized)\n",
        "    nrmse_local = sqrt(sum(distances)/len(distances))\n",
        "\n",
        "    if error:\n",
        "        cv2.imwrite(output_dir + \"errors/\" + filename, image)\n",
        "    else:\n",
        "        nrmse_global.append(nrmse_local)\n",
        "        cv2.imwrite(output_dir + filename, image)\n",
        "\n",
        "print(\"NRMSE: %.5f, skipped %d of %d (%.3f)\" % (np.mean(np.array(nrmse_global)), count_incorrect, count_all, count_incorrect/count_all))"
      ],
      "metadata": {
        "colab": {
          "base_uri": "https://localhost:8080/"
        },
        "id": "8i8Cp6uW5m5f",
        "outputId": "00c72799-da4a-439b-e6b8-7960da970b48"
      },
      "execution_count": null,
      "outputs": [
        {
          "output_type": "stream",
          "name": "stdout",
          "text": [
            "Processing: image_004_1.jpg (1)\n",
            "Processing: image_003_1.jpg (2)\n",
            "Processing: image_005_1.jpg (3)\n",
            "Processing: image_008_1.jpg (4)\n",
            "Processing: image_010_1.jpg (5)\n",
            "Processing: image_011_1.jpg (6)\n",
            "Processing: image_013.jpg (7)\n",
            "Processing: image_012.jpg (8)\n",
            "Processing: image_014.jpg (9)\n",
            "Processing: image_014_01.jpg (10)\n",
            "Processing: image_014_02.jpg (11)\n",
            "Processing: image_015_1.jpg (12)\n",
            "Processing: image_017_1.jpg (13)\n",
            "Processing: image_016_1.jpg (14)\n",
            "Processing: image_019_1.jpg (15)\n",
            "Processing: image_021_1.jpg (16)\n",
            "Processing: image_020_1.jpg (17)\n",
            "Processing: image_022.jpg (18)\n",
            "Processing: image_023_1.jpg (19)\n",
            "Processing: image_024_1.jpg (20)\n",
            "Processing: image_026_1.jpg (21)\n",
            "Processing: image_025_1.jpg (22)\n",
            "Processing: image_029_1.jpg (23)\n",
            "Processing: image_033_1.jpg (24)\n",
            "Processing: image_034_1.jpg (25)\n",
            "Processing: image_035.jpg (26)\n",
            "Processing: image_041_1.jpg (27)\n",
            "Processing: image_040.jpg (28)\n",
            "Processing: image_042.jpg (29)\n",
            "Processing: image_043_1.jpg (30)\n",
            "Processing: image_045_1.jpg (31)\n",
            "Processing: image_047_1.jpg (32)\n",
            "Processing: image_046.jpg (33)\n",
            "Processing: image_049_1.jpg (34)\n",
            "Processing: image_050.jpg (35)\n",
            "Processing: image_050_01.jpg (36)\n",
            "Processing: image_051_1.jpg (37)\n",
            "Processing: image_052_1.jpg (38)\n",
            "Processing: image_053.jpg (39)\n",
            "Processing: image_054.jpg (40)\n",
            "Processing: image_055.jpg (41)\n",
            "Processing: image_059.jpg (42)\n",
            "Processing: image_060_1.jpg (43)\n",
            "Processing: image_057_1.jpg (44)\n",
            "Processing: image_058.jpg (45)\n",
            "Processing: image_062_1.jpg (46)\n",
            "Processing: image_061_1.jpg (47)\n",
            "Processing: image_064_1.jpg (48)\n",
            "Processing: image_063.jpg (49)\n",
            "Processing: image_065_1.jpg (50)\n",
            "Processing: image_067_1.jpg (51)\n",
            "Processing: image_068_1.jpg (52)\n",
            "Processing: image_066_1.jpg (53)\n",
            "Processing: image_069_1.jpg (54)\n",
            "Processing: image_070.jpg (55)\n",
            "Processing: image_071_1.jpg (56)\n",
            "Processing: image_072_1.jpg (57)\n",
            "Processing: image_073.jpg (58)\n",
            "Processing: image_075.jpg (59)\n",
            "Processing: image_076_1.jpg (60)\n",
            "Processing: image_078_1.jpg (61)\n",
            "Processing: image_077.jpg (62)\n",
            "Processing: image_080_1.jpg (63)\n",
            "Processing: image_080_2.jpg (64)\n",
            "Processing: image_081.jpg (65)\n",
            "Processing: image_083_2.jpg (66)\n",
            "Processing: image_084.jpg (67)\n",
            "Processing: image_087.jpg (68)\n",
            "Processing: image_086_1.jpg (69)\n",
            "Processing: image_087_01.jpg (70)\n",
            "Processing: image_088.jpg (71)\n",
            "Processing: image_089.jpg (72)\n",
            "Processing: image_089_02.jpg (73)\n",
            "Processing: image_089_01.jpg (74)\n",
            "Processing: image_09.jpg (75)\n",
            "Processing: image_090_1.jpg (76)\n",
            "Processing: image_092 _01.jpg (77)\n",
            "Processing: image_091.jpg (78)\n",
            "Processing: image_092.jpg (79)\n",
            "Processing: image_092_02.jpg (80)\n",
            "Processing: image_093.jpg (81)\n",
            "Processing: image_094.jpg (82)\n",
            "Processing: image_095.jpg (83)\n",
            "Processing: image_096.jpg (84)\n",
            "Processing: image_097_1.jpg (85)\n",
            "Processing: image_100.jpg (86)\n",
            "Processing: image_100_01.jpg (87)\n",
            "Processing: image_100_02.jpg (88)\n",
            "Processing: image_100_03.jpg (89)\n",
            "Processing: image_100_04.jpg (90)\n",
            "Processing: image_100_05.jpg (91)\n",
            "Processing: image_100_06.jpg (92)\n",
            "Processing: image_101.jpg (93)\n",
            "Processing: image_103.jpg (94)\n",
            "Processing: image_104.jpg (95)\n",
            "Processing: image_105.jpg (96)\n",
            "Processing: image_105_01.jpg (97)\n",
            "Processing: image_107.jpg (98)\n",
            "Processing: image_110.jpg (99)\n",
            "Processing: image_109.jpg (100)\n",
            "Processing: image_108.jpg (101)\n",
            "Processing: image_110_01.jpg (102)\n",
            "Processing: image_111.jpg (103)\n",
            "Processing: image_113.jpg (104)\n",
            "Processing: image_112.jpg (105)\n",
            "Processing: image_114.jpg (106)\n",
            "Processing: image_115.jpg (107)\n",
            "Processing: image_114_01.jpg (108)\n",
            "Processing: image_117.jpg (109)\n",
            "Processing: image_115_01.jpg (110)\n",
            "Processing: image_118.jpg (111)\n",
            "Processing: image_118_01.jpg (112)\n",
            "Processing: image_118_02.jpg (113)\n",
            "Processing: image_99.jpg (114)\n",
            "Processing: image_119.jpg (115)\n",
            "NRMSE: 0.15204, skipped 42 of 115 (0.365)\n"
          ]
        }
      ]
    },
    {
      "cell_type": "code",
      "source": [
        "!zip -r /content/file.zip /content/data/"
      ],
      "metadata": {
        "id": "k8rvjL9254SV"
      },
      "execution_count": null,
      "outputs": []
    },
    {
      "cell_type": "code",
      "source": [
        "rm -rf ./data/*"
      ],
      "metadata": {
        "id": "0LT17iNi8DaH"
      },
      "execution_count": null,
      "outputs": []
    },
    {
      "cell_type": "code",
      "source": [
        "mkdir ./data/errors"
      ],
      "metadata": {
        "id": "Fvpdl4_ycCby"
      },
      "execution_count": null,
      "outputs": []
    },
    {
      "cell_type": "code",
      "source": [
        "rm file.zip"
      ],
      "metadata": {
        "id": "bzgEX74ncAHf"
      },
      "execution_count": null,
      "outputs": []
    }
  ]
}