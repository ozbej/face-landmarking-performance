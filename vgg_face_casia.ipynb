{
  "nbformat": 4,
  "nbformat_minor": 0,
  "metadata": {
    "colab": {
      "name": "vgg_face_casia.ipynb",
      "provenance": [],
      "collapsed_sections": []
    },
    "kernelspec": {
      "name": "python3",
      "display_name": "Python 3"
    },
    "language_info": {
      "name": "python"
    },
    "accelerator": "GPU"
  },
  "cells": [
    {
      "cell_type": "code",
      "execution_count": null,
      "metadata": {
        "id": "94llNqqCrzlR"
      },
      "outputs": [],
      "source": [
        "import os\n",
        "import cv2\n",
        "import dlib\n",
        "import numpy as np\n",
        "import tensorflow as tf\n",
        "from tensorflow import keras\n",
        "from tensorflow.keras.models import Sequential,Model\n",
        "from tensorflow.keras.layers import ZeroPadding2D,Convolution2D,MaxPooling2D\n",
        "from tensorflow.keras.layers import Dense,Dropout,Softmax,Flatten,Activation,BatchNormalization\n",
        "from tensorflow.keras.preprocessing.image import load_img,img_to_array\n",
        "from tensorflow.keras.applications.imagenet_utils import preprocess_input\n",
        "import tensorflow.keras.backend as K\n",
        "from sklearn import preprocessing\n",
        "import matplotlib.pyplot as plt\n",
        "from sklearn.metrics import confusion_matrix, accuracy_score\n",
        "import seaborn as sns"
      ]
    },
    {
      "cell_type": "code",
      "source": [
        "print(tf.__version__)"
      ],
      "metadata": {
        "colab": {
          "base_uri": "https://localhost:8080/"
        },
        "id": "eWLT6Iemw20X",
        "outputId": "94239c40-c79b-4380-b7d7-b308ec1dde31"
      },
      "execution_count": null,
      "outputs": [
        {
          "output_type": "stream",
          "name": "stdout",
          "text": [
            "2.7.0\n"
          ]
        }
      ]
    },
    {
      "cell_type": "code",
      "source": [
        "from google.colab import drive\n",
        "drive.mount('/content/drive')"
      ],
      "metadata": {
        "id": "rRKXPUK672sD",
        "colab": {
          "base_uri": "https://localhost:8080/"
        },
        "outputId": "24323e8a-f15b-4e85-bb62-f3fd18667f29"
      },
      "execution_count": null,
      "outputs": [
        {
          "output_type": "stream",
          "name": "stdout",
          "text": [
            "Drive already mounted at /content/drive; to attempt to forcibly remount, call drive.mount(\"/content/drive\", force_remount=True).\n"
          ]
        }
      ]
    },
    {
      "cell_type": "code",
      "source": [
        "def plot_hist(hist):\n",
        "    plt.figure(figsize=(20,20))\n",
        "    fig, axs = plt.subplots(2)\n",
        "    \n",
        "    axs[0].plot(hist.history[\"accuracy\"], label=\"Train accuracy\")\n",
        "    axs[0].plot(hist.history[\"val_accuracy\"], label=\"Test accuracy\")    \n",
        "    axs[0].set_ylabel(\"Accuracy\")\n",
        "    axs[0].legend(loc=\"lower right\")\n",
        "    axs[0].set_title(\"Accuracy eval\")\n",
        "\n",
        "    axs[1].plot(hist.history[\"loss\"], label=\"Train error\")\n",
        "    axs[1].plot(hist.history[\"val_loss\"], label=\"Test error\")    \n",
        "    axs[1].set_ylabel(\"Error\")\n",
        "    axs[1].set_xlabel(\"Epoch\")\n",
        "    axs[1].legend(loc=\"upper right\")\n",
        "    axs[1].set_title(\"Error eval\")\n",
        "\n",
        "    plt.tight_layout()\n",
        "    plt.show()"
      ],
      "metadata": {
        "id": "3KEcabpqr49g"
      },
      "execution_count": null,
      "outputs": []
    },
    {
      "cell_type": "code",
      "source": [
        "def plot_cf_matrix(cf_matrix, title):\n",
        "    ax = sns.heatmap(cf_matrix, annot=True, cmap='Blues')\n",
        "    ax.set_title(title);\n",
        "    ax.set_xlabel('\\nPredicted Values')\n",
        "    ax.set_ylabel('Actual Values ');\n",
        "    #ax.xaxis.set_ticklabels(genres, rotation=90)\n",
        "    #ax.yaxis.set_ticklabels(genres, rotation=0)\n",
        "    plt.show()"
      ],
      "metadata": {
        "id": "8ChW7Vw8r6oX"
      },
      "execution_count": null,
      "outputs": []
    },
    {
      "cell_type": "code",
      "source": [
        "!unzip /content/drive/MyDrive/casia_10_split.zip -d ."
      ],
      "metadata": {
        "id": "8QDfeMx_r7Dw"
      },
      "execution_count": null,
      "outputs": []
    },
    {
      "cell_type": "code",
      "source": [
        "path_train = \"./casia_10_split/train/\"\n",
        "path_test = \"./casia_10_split/test/\"\n",
        "leaders_train = os.listdir(path_train)\n",
        "leaders_test = os.listdir(path_test)\n",
        "leaders_train.sort()\n",
        "leaders_test.sort()\n",
        "#print(leaders_train)\n",
        "#print(leaders_test)\n",
        "print(leaders_train==leaders_test)"
      ],
      "metadata": {
        "id": "USxGT3pzr_R8",
        "colab": {
          "base_uri": "https://localhost:8080/"
        },
        "outputId": "06aaed64-7534-4583-ed27-39fe94ce34ed"
      },
      "execution_count": null,
      "outputs": [
        {
          "output_type": "stream",
          "name": "stdout",
          "text": [
            "True\n"
          ]
        }
      ]
    },
    {
      "cell_type": "code",
      "source": [
        "#Define VGG_FACE_MODEL architecture\n",
        "model = Sequential()\n",
        "model.add(ZeroPadding2D((1,1),input_shape=(224,224, 3)))\n",
        "model.add(Convolution2D(64, (3, 3), activation='relu'))\n",
        "model.add(ZeroPadding2D((1,1)))\n",
        "model.add(Convolution2D(64, (3, 3), activation='relu'))\n",
        "model.add(MaxPooling2D((2,2), strides=(2,2)))\n",
        "model.add(ZeroPadding2D((1,1)))\n",
        "model.add(Convolution2D(128, (3, 3), activation='relu'))\n",
        "model.add(ZeroPadding2D((1,1)))\n",
        "model.add(Convolution2D(128, (3, 3), activation='relu'))\n",
        "model.add(MaxPooling2D((2,2), strides=(2,2)))\n",
        "model.add(ZeroPadding2D((1,1)))\n",
        "model.add(Convolution2D(256, (3, 3), activation='relu'))\n",
        "model.add(ZeroPadding2D((1,1)))\n",
        "model.add(Convolution2D(256, (3, 3), activation='relu'))\n",
        "model.add(ZeroPadding2D((1,1)))\n",
        "model.add(Convolution2D(256, (3, 3), activation='relu'))\n",
        "model.add(MaxPooling2D((2,2), strides=(2,2)))\n",
        "model.add(ZeroPadding2D((1,1)))\n",
        "model.add(Convolution2D(512, (3, 3), activation='relu'))\n",
        "model.add(ZeroPadding2D((1,1)))\n",
        "model.add(Convolution2D(512, (3, 3), activation='relu'))\n",
        "model.add(ZeroPadding2D((1,1)))\n",
        "model.add(Convolution2D(512, (3, 3), activation='relu'))\n",
        "model.add(MaxPooling2D((2,2), strides=(2,2)))\n",
        "model.add(ZeroPadding2D((1,1)))\n",
        "model.add(Convolution2D(512, (3, 3), activation='relu'))\n",
        "model.add(ZeroPadding2D((1,1)))\n",
        "model.add(Convolution2D(512, (3, 3), activation='relu'))\n",
        "model.add(ZeroPadding2D((1,1)))\n",
        "model.add(Convolution2D(512, (3, 3), activation='relu'))\n",
        "model.add(MaxPooling2D((2,2), strides=(2,2)))\n",
        "model.add(Convolution2D(4096, (7, 7), activation='relu'))\n",
        "model.add(Dropout(0.5))\n",
        "model.add(Convolution2D(4096, (1, 1), activation='relu'))\n",
        "model.add(Dropout(0.5))\n",
        "model.add(Convolution2D(2622, (1, 1)))\n",
        "model.add(Flatten())\n",
        "model.add(Activation('softmax'))"
      ],
      "metadata": {
        "id": "rC3o_uiTsEvW"
      },
      "execution_count": null,
      "outputs": []
    },
    {
      "cell_type": "code",
      "source": [
        "# Load VGG Face model weights\n",
        "model.load_weights('./drive/MyDrive/lfw/vgg_face_weights.h5')"
      ],
      "metadata": {
        "id": "b37OdfwSsFbH"
      },
      "execution_count": null,
      "outputs": []
    },
    {
      "cell_type": "code",
      "source": [
        "model.summary()"
      ],
      "metadata": {
        "id": "Fnryod2qsG_R"
      },
      "execution_count": null,
      "outputs": []
    },
    {
      "cell_type": "code",
      "source": [
        "keras.utils.plot_model(model)"
      ],
      "metadata": {
        "id": "jNDlqRB6FL_m"
      },
      "execution_count": null,
      "outputs": []
    },
    {
      "cell_type": "code",
      "source": [
        "# Remove Last Softmax layer and get model upto last flatten layer with outputs 2622 units\n",
        "vgg_face = Model(inputs=model.layers[0].input,outputs=model.layers[-2].output)"
      ],
      "metadata": {
        "id": "vvEgyC_fsI9o"
      },
      "execution_count": null,
      "outputs": []
    },
    {
      "cell_type": "code",
      "source": [
        "#Prepare Train Data\n",
        "x_train = []\n",
        "y_train = []\n",
        "person_folders = os.listdir(\"./casia_10_split/train/\")\n",
        "person_rep = dict()\n",
        "for i, person in enumerate(leaders_train):\n",
        "  print(person, i)\n",
        "  person_rep[person] = i\n",
        "  image_names = os.listdir(\"./casia_10_split/train/\" + person + '/')\n",
        "  for image_name in image_names:\n",
        "    #print(image_name)\n",
        "    img = load_img(\"./casia_10_split/train/\" + person + '/' + image_name, target_size=(224,224))\n",
        "    img = img_to_array(img)\n",
        "    img = np.expand_dims(img,axis=0)\n",
        "    img = preprocess_input(img)\n",
        "    img_encode = vgg_face(img)\n",
        "    x_train.append(np.squeeze(K.eval(img_encode)).tolist())\n",
        "    y_train.append(i)"
      ],
      "metadata": {
        "id": "z8AjmFFNsRlH",
        "colab": {
          "base_uri": "https://localhost:8080/"
        },
        "outputId": "0fd025f4-445b-4266-a25e-df53dcebb7aa"
      },
      "execution_count": null,
      "outputs": [
        {
          "output_type": "stream",
          "name": "stdout",
          "text": [
            "0000099 0\n",
            "0000100 1\n",
            "0000102 2\n",
            "0000103 3\n",
            "0000105 4\n",
            "0000107 5\n",
            "0000108 6\n",
            "0000114 7\n",
            "0000117 8\n",
            "0000119 9\n"
          ]
        }
      ]
    },
    {
      "cell_type": "code",
      "source": [
        "person_rep"
      ],
      "metadata": {
        "id": "LZQP2gXssSB2",
        "colab": {
          "base_uri": "https://localhost:8080/"
        },
        "outputId": "aa489782-96dc-484c-b505-0efb977fc7fb"
      },
      "execution_count": null,
      "outputs": [
        {
          "output_type": "execute_result",
          "data": {
            "text/plain": [
              "{'0000099': 0,\n",
              " '0000100': 1,\n",
              " '0000102': 2,\n",
              " '0000103': 3,\n",
              " '0000105': 4,\n",
              " '0000107': 5,\n",
              " '0000108': 6,\n",
              " '0000114': 7,\n",
              " '0000117': 8,\n",
              " '0000119': 9}"
            ]
          },
          "metadata": {},
          "execution_count": 13
        }
      ]
    },
    {
      "cell_type": "code",
      "source": [
        "x_train = np.array(x_train)\n",
        "y_train = np.array(y_train)"
      ],
      "metadata": {
        "id": "AGaaGfc7sVUK"
      },
      "execution_count": null,
      "outputs": []
    },
    {
      "cell_type": "code",
      "source": [
        "print(x_train.shape, y_train.shape)\n",
        "print(x_train[0])\n",
        "print(y_train[0])"
      ],
      "metadata": {
        "colab": {
          "base_uri": "https://localhost:8080/"
        },
        "id": "Y1ZwUPessXB7",
        "outputId": "8b36de6b-f8ff-418b-cb9d-89e6e3a08308"
      },
      "execution_count": null,
      "outputs": [
        {
          "output_type": "stream",
          "name": "stdout",
          "text": [
            "(960, 2622) (960,)\n",
            "[ 1.23979294  3.42265272 -1.12267327 ... -3.59475088  2.88625431\n",
            "  6.1710577 ]\n",
            "0\n"
          ]
        }
      ]
    },
    {
      "cell_type": "code",
      "source": [
        "#Prepare Test Data\n",
        "x_test=[]\n",
        "y_test=[]\n",
        "person_folders = os.listdir(\"./casia_10_split/test/\")\n",
        "for i, person in enumerate(leaders_train):\n",
        "  print(person, person_rep.get(person))\n",
        "  image_names = os.listdir(\"./casia_10_split/test/\" + person + '/')\n",
        "  for image_name in image_names:\n",
        "    #print(image_name)\n",
        "    img = load_img(\"./casia_10_split/test/\" + person + '/' + image_name, target_size=(224,224))\n",
        "    img = img_to_array(img)\n",
        "    img = np.expand_dims(img,axis=0)\n",
        "    img = preprocess_input(img)\n",
        "    img_encode = vgg_face(img)\n",
        "    x_test.append(np.squeeze(K.eval(img_encode)).tolist())\n",
        "    #y_test.append(person_rep.get(person))\n",
        "    y_test.append(person_rep.get(person))"
      ],
      "metadata": {
        "id": "f6bo0PocsYjv"
      },
      "execution_count": null,
      "outputs": []
    },
    {
      "cell_type": "code",
      "source": [
        "x_test = np.array(x_test)\n",
        "y_test = np.array(y_test)"
      ],
      "metadata": {
        "id": "gM0tVE_nsY8q"
      },
      "execution_count": null,
      "outputs": []
    },
    {
      "cell_type": "code",
      "source": [
        "print(x_test.shape, y_test.shape)\n",
        "print(x_test[0])\n",
        "print(y_test[0])"
      ],
      "metadata": {
        "colab": {
          "base_uri": "https://localhost:8080/"
        },
        "id": "aXPnM1BDsb60",
        "outputId": "157bf155-d03e-4a0a-8f17-146567f25d13"
      },
      "execution_count": null,
      "outputs": [
        {
          "output_type": "stream",
          "name": "stdout",
          "text": [
            "(417, 2622) (417,)\n",
            "[ 1.91138816  0.58899343 -0.19249925 ... -3.26062417  1.52417946\n",
            "  3.62644005]\n",
            "0\n"
          ]
        }
      ]
    },
    {
      "cell_type": "code",
      "source": [
        "# Softmax regressor to classify images based on encoding \n",
        "classifier_model=Sequential()\n",
        "classifier_model.add(Dense(units=100,input_dim=x_train.shape[1],kernel_initializer='glorot_uniform'))\n",
        "classifier_model.add(BatchNormalization())\n",
        "classifier_model.add(Activation('tanh'))\n",
        "classifier_model.add(Dropout(0.3))\n",
        "classifier_model.add(Dense(units=10,kernel_initializer='glorot_uniform'))\n",
        "classifier_model.add(BatchNormalization())\n",
        "classifier_model.add(Activation('tanh'))\n",
        "classifier_model.add(Dropout(0.2))\n",
        "classifier_model.add(Dense(units=len(leaders_test),kernel_initializer='he_uniform'))\n",
        "classifier_model.add(Activation('softmax'))\n",
        "classifier_model.compile(loss=tf.keras.losses.SparseCategoricalCrossentropy(),optimizer='nadam',metrics=['accuracy'])"
      ],
      "metadata": {
        "id": "p8p0HJjGsdQL"
      },
      "execution_count": null,
      "outputs": []
    },
    {
      "cell_type": "code",
      "source": [
        "hist = classifier_model.fit(x_train,y_train,epochs=100,validation_data=(x_test,y_test))"
      ],
      "metadata": {
        "colab": {
          "base_uri": "https://localhost:8080/"
        },
        "id": "iEUl9BWfsfXi",
        "outputId": "585dddfe-e969-4e1e-b75a-5bd41adce5e4"
      },
      "execution_count": null,
      "outputs": [
        {
          "output_type": "stream",
          "name": "stdout",
          "text": [
            "Epoch 1/100\n",
            "30/30 [==============================] - 2s 12ms/step - loss: 1.0985 - accuracy: 0.7729 - val_loss: 0.6118 - val_accuracy: 0.9424\n",
            "Epoch 2/100\n",
            "30/30 [==============================] - 0s 6ms/step - loss: 0.7456 - accuracy: 0.9260 - val_loss: 0.4794 - val_accuracy: 0.9568\n",
            "Epoch 3/100\n",
            "30/30 [==============================] - 0s 7ms/step - loss: 0.6363 - accuracy: 0.9521 - val_loss: 0.4365 - val_accuracy: 0.9640\n",
            "Epoch 4/100\n",
            "30/30 [==============================] - 0s 6ms/step - loss: 0.5607 - accuracy: 0.9615 - val_loss: 0.3934 - val_accuracy: 0.9688\n",
            "Epoch 5/100\n",
            "30/30 [==============================] - 0s 6ms/step - loss: 0.4851 - accuracy: 0.9719 - val_loss: 0.3741 - val_accuracy: 0.9640\n",
            "Epoch 6/100\n",
            "30/30 [==============================] - 0s 6ms/step - loss: 0.4451 - accuracy: 0.9698 - val_loss: 0.3473 - val_accuracy: 0.9544\n",
            "Epoch 7/100\n",
            "30/30 [==============================] - 0s 7ms/step - loss: 0.3852 - accuracy: 0.9823 - val_loss: 0.3140 - val_accuracy: 0.9640\n",
            "Epoch 8/100\n",
            "30/30 [==============================] - 0s 6ms/step - loss: 0.3426 - accuracy: 0.9833 - val_loss: 0.3091 - val_accuracy: 0.9616\n",
            "Epoch 9/100\n",
            "30/30 [==============================] - 0s 7ms/step - loss: 0.3082 - accuracy: 0.9812 - val_loss: 0.2622 - val_accuracy: 0.9688\n",
            "Epoch 10/100\n",
            "30/30 [==============================] - 0s 7ms/step - loss: 0.2906 - accuracy: 0.9844 - val_loss: 0.2618 - val_accuracy: 0.9592\n",
            "Epoch 11/100\n",
            "30/30 [==============================] - 0s 6ms/step - loss: 0.2672 - accuracy: 0.9854 - val_loss: 0.2439 - val_accuracy: 0.9592\n",
            "Epoch 12/100\n",
            "30/30 [==============================] - 0s 6ms/step - loss: 0.2568 - accuracy: 0.9865 - val_loss: 0.2376 - val_accuracy: 0.9664\n",
            "Epoch 13/100\n",
            "30/30 [==============================] - 0s 7ms/step - loss: 0.2116 - accuracy: 0.9948 - val_loss: 0.2239 - val_accuracy: 0.9664\n",
            "Epoch 14/100\n",
            "30/30 [==============================] - 0s 6ms/step - loss: 0.2226 - accuracy: 0.9833 - val_loss: 0.1939 - val_accuracy: 0.9664\n",
            "Epoch 15/100\n",
            "30/30 [==============================] - 0s 6ms/step - loss: 0.1904 - accuracy: 0.9896 - val_loss: 0.2025 - val_accuracy: 0.9592\n",
            "Epoch 16/100\n",
            "30/30 [==============================] - 0s 6ms/step - loss: 0.1764 - accuracy: 0.9948 - val_loss: 0.1835 - val_accuracy: 0.9640\n",
            "Epoch 17/100\n",
            "30/30 [==============================] - 0s 6ms/step - loss: 0.1717 - accuracy: 0.9948 - val_loss: 0.2024 - val_accuracy: 0.9664\n",
            "Epoch 18/100\n",
            "30/30 [==============================] - 0s 6ms/step - loss: 0.1543 - accuracy: 0.9948 - val_loss: 0.1812 - val_accuracy: 0.9592\n",
            "Epoch 19/100\n",
            "30/30 [==============================] - 0s 7ms/step - loss: 0.1558 - accuracy: 0.9948 - val_loss: 0.1740 - val_accuracy: 0.9568\n",
            "Epoch 20/100\n",
            "30/30 [==============================] - 0s 7ms/step - loss: 0.1379 - accuracy: 0.9927 - val_loss: 0.1793 - val_accuracy: 0.9592\n",
            "Epoch 21/100\n",
            "30/30 [==============================] - 0s 7ms/step - loss: 0.1248 - accuracy: 0.9948 - val_loss: 0.1617 - val_accuracy: 0.9616\n",
            "Epoch 22/100\n",
            "30/30 [==============================] - 0s 7ms/step - loss: 0.1308 - accuracy: 0.9958 - val_loss: 0.1662 - val_accuracy: 0.9616\n",
            "Epoch 23/100\n",
            "30/30 [==============================] - 0s 6ms/step - loss: 0.1188 - accuracy: 0.9969 - val_loss: 0.1687 - val_accuracy: 0.9640\n",
            "Epoch 24/100\n",
            "30/30 [==============================] - 0s 7ms/step - loss: 0.1230 - accuracy: 0.9948 - val_loss: 0.1655 - val_accuracy: 0.9640\n",
            "Epoch 25/100\n",
            "30/30 [==============================] - 0s 8ms/step - loss: 0.1013 - accuracy: 0.9969 - val_loss: 0.1553 - val_accuracy: 0.9664\n",
            "Epoch 26/100\n",
            "30/30 [==============================] - 0s 6ms/step - loss: 0.1116 - accuracy: 0.9948 - val_loss: 0.1652 - val_accuracy: 0.9616\n",
            "Epoch 27/100\n",
            "30/30 [==============================] - 0s 7ms/step - loss: 0.0971 - accuracy: 0.9979 - val_loss: 0.1602 - val_accuracy: 0.9664\n",
            "Epoch 28/100\n",
            "30/30 [==============================] - 0s 7ms/step - loss: 0.0926 - accuracy: 0.9927 - val_loss: 0.1539 - val_accuracy: 0.9640\n",
            "Epoch 29/100\n",
            "30/30 [==============================] - 0s 7ms/step - loss: 0.0926 - accuracy: 0.9937 - val_loss: 0.1661 - val_accuracy: 0.9664\n",
            "Epoch 30/100\n",
            "30/30 [==============================] - 0s 8ms/step - loss: 0.0880 - accuracy: 0.9948 - val_loss: 0.1511 - val_accuracy: 0.9640\n",
            "Epoch 31/100\n",
            "30/30 [==============================] - 0s 7ms/step - loss: 0.0859 - accuracy: 0.9979 - val_loss: 0.1472 - val_accuracy: 0.9688\n",
            "Epoch 32/100\n",
            "30/30 [==============================] - 0s 6ms/step - loss: 0.0820 - accuracy: 0.9958 - val_loss: 0.1425 - val_accuracy: 0.9664\n",
            "Epoch 33/100\n",
            "30/30 [==============================] - 0s 6ms/step - loss: 0.0745 - accuracy: 0.9969 - val_loss: 0.1385 - val_accuracy: 0.9664\n",
            "Epoch 34/100\n",
            "30/30 [==============================] - 0s 6ms/step - loss: 0.0735 - accuracy: 1.0000 - val_loss: 0.1522 - val_accuracy: 0.9664\n",
            "Epoch 35/100\n",
            "30/30 [==============================] - 0s 6ms/step - loss: 0.0771 - accuracy: 0.9958 - val_loss: 0.1448 - val_accuracy: 0.9640\n",
            "Epoch 36/100\n",
            "30/30 [==============================] - 0s 7ms/step - loss: 0.0697 - accuracy: 0.9958 - val_loss: 0.1519 - val_accuracy: 0.9664\n",
            "Epoch 37/100\n",
            "30/30 [==============================] - 0s 7ms/step - loss: 0.0662 - accuracy: 0.9979 - val_loss: 0.1345 - val_accuracy: 0.9592\n",
            "Epoch 38/100\n",
            "30/30 [==============================] - 0s 7ms/step - loss: 0.0626 - accuracy: 0.9948 - val_loss: 0.1440 - val_accuracy: 0.9664\n",
            "Epoch 39/100\n",
            "30/30 [==============================] - 0s 7ms/step - loss: 0.0597 - accuracy: 0.9990 - val_loss: 0.1597 - val_accuracy: 0.9664\n",
            "Epoch 40/100\n",
            "30/30 [==============================] - 0s 6ms/step - loss: 0.0604 - accuracy: 0.9958 - val_loss: 0.1396 - val_accuracy: 0.9664\n",
            "Epoch 41/100\n",
            "30/30 [==============================] - 0s 7ms/step - loss: 0.0577 - accuracy: 0.9948 - val_loss: 0.1308 - val_accuracy: 0.9664\n",
            "Epoch 42/100\n",
            "30/30 [==============================] - 0s 6ms/step - loss: 0.0563 - accuracy: 0.9990 - val_loss: 0.1229 - val_accuracy: 0.9640\n",
            "Epoch 43/100\n",
            "30/30 [==============================] - 0s 7ms/step - loss: 0.0594 - accuracy: 0.9927 - val_loss: 0.1258 - val_accuracy: 0.9664\n",
            "Epoch 44/100\n",
            "30/30 [==============================] - 0s 7ms/step - loss: 0.0479 - accuracy: 1.0000 - val_loss: 0.1420 - val_accuracy: 0.9640\n",
            "Epoch 45/100\n",
            "30/30 [==============================] - 0s 7ms/step - loss: 0.0534 - accuracy: 0.9979 - val_loss: 0.1644 - val_accuracy: 0.9664\n",
            "Epoch 46/100\n",
            "30/30 [==============================] - 0s 6ms/step - loss: 0.0487 - accuracy: 0.9969 - val_loss: 0.1406 - val_accuracy: 0.9640\n",
            "Epoch 47/100\n",
            "30/30 [==============================] - 0s 7ms/step - loss: 0.0461 - accuracy: 0.9979 - val_loss: 0.1395 - val_accuracy: 0.9664\n",
            "Epoch 48/100\n",
            "30/30 [==============================] - 0s 6ms/step - loss: 0.0436 - accuracy: 0.9969 - val_loss: 0.1355 - val_accuracy: 0.9664\n",
            "Epoch 49/100\n",
            "30/30 [==============================] - 0s 7ms/step - loss: 0.0476 - accuracy: 0.9969 - val_loss: 0.1331 - val_accuracy: 0.9616\n",
            "Epoch 50/100\n",
            "30/30 [==============================] - 0s 7ms/step - loss: 0.0461 - accuracy: 1.0000 - val_loss: 0.1549 - val_accuracy: 0.9616\n",
            "Epoch 51/100\n",
            "30/30 [==============================] - 0s 6ms/step - loss: 0.0463 - accuracy: 0.9969 - val_loss: 0.1546 - val_accuracy: 0.9640\n",
            "Epoch 52/100\n",
            "30/30 [==============================] - 0s 7ms/step - loss: 0.0483 - accuracy: 0.9979 - val_loss: 0.1353 - val_accuracy: 0.9688\n",
            "Epoch 53/100\n",
            "30/30 [==============================] - 0s 6ms/step - loss: 0.0362 - accuracy: 0.9990 - val_loss: 0.1355 - val_accuracy: 0.9712\n",
            "Epoch 54/100\n",
            "30/30 [==============================] - 0s 6ms/step - loss: 0.0424 - accuracy: 0.9979 - val_loss: 0.1426 - val_accuracy: 0.9688\n",
            "Epoch 55/100\n",
            "30/30 [==============================] - 0s 7ms/step - loss: 0.0409 - accuracy: 0.9990 - val_loss: 0.1394 - val_accuracy: 0.9688\n",
            "Epoch 56/100\n",
            "30/30 [==============================] - 0s 7ms/step - loss: 0.0330 - accuracy: 0.9990 - val_loss: 0.1456 - val_accuracy: 0.9664\n",
            "Epoch 57/100\n",
            "30/30 [==============================] - 0s 6ms/step - loss: 0.0405 - accuracy: 0.9979 - val_loss: 0.1549 - val_accuracy: 0.9664\n",
            "Epoch 58/100\n",
            "30/30 [==============================] - 0s 6ms/step - loss: 0.0456 - accuracy: 0.9969 - val_loss: 0.1593 - val_accuracy: 0.9568\n",
            "Epoch 59/100\n",
            "30/30 [==============================] - 0s 7ms/step - loss: 0.0362 - accuracy: 0.9979 - val_loss: 0.1304 - val_accuracy: 0.9664\n",
            "Epoch 60/100\n",
            "30/30 [==============================] - 0s 7ms/step - loss: 0.0395 - accuracy: 0.9979 - val_loss: 0.2682 - val_accuracy: 0.9424\n",
            "Epoch 61/100\n",
            "30/30 [==============================] - 0s 7ms/step - loss: 0.0371 - accuracy: 0.9990 - val_loss: 0.1796 - val_accuracy: 0.9520\n",
            "Epoch 62/100\n",
            "30/30 [==============================] - 0s 6ms/step - loss: 0.0362 - accuracy: 0.9958 - val_loss: 0.1484 - val_accuracy: 0.9616\n",
            "Epoch 63/100\n",
            "30/30 [==============================] - 0s 6ms/step - loss: 0.0398 - accuracy: 0.9937 - val_loss: 0.1523 - val_accuracy: 0.9640\n",
            "Epoch 64/100\n",
            "30/30 [==============================] - 0s 7ms/step - loss: 0.0424 - accuracy: 0.9969 - val_loss: 0.1542 - val_accuracy: 0.9640\n",
            "Epoch 65/100\n",
            "30/30 [==============================] - 0s 6ms/step - loss: 0.0371 - accuracy: 0.9969 - val_loss: 0.1291 - val_accuracy: 0.9664\n",
            "Epoch 66/100\n",
            "30/30 [==============================] - 0s 6ms/step - loss: 0.0370 - accuracy: 0.9969 - val_loss: 0.1412 - val_accuracy: 0.9592\n",
            "Epoch 67/100\n",
            "30/30 [==============================] - 0s 7ms/step - loss: 0.0347 - accuracy: 0.9969 - val_loss: 0.1402 - val_accuracy: 0.9592\n",
            "Epoch 68/100\n",
            "30/30 [==============================] - 0s 7ms/step - loss: 0.0304 - accuracy: 0.9979 - val_loss: 0.1516 - val_accuracy: 0.9568\n",
            "Epoch 69/100\n",
            "30/30 [==============================] - 0s 7ms/step - loss: 0.0328 - accuracy: 0.9958 - val_loss: 0.1408 - val_accuracy: 0.9664\n",
            "Epoch 70/100\n",
            "30/30 [==============================] - 0s 7ms/step - loss: 0.0255 - accuracy: 1.0000 - val_loss: 0.1426 - val_accuracy: 0.9640\n",
            "Epoch 71/100\n",
            "30/30 [==============================] - 0s 7ms/step - loss: 0.0374 - accuracy: 0.9958 - val_loss: 0.1423 - val_accuracy: 0.9568\n",
            "Epoch 72/100\n",
            "30/30 [==============================] - 0s 7ms/step - loss: 0.0311 - accuracy: 0.9969 - val_loss: 0.1408 - val_accuracy: 0.9592\n",
            "Epoch 73/100\n",
            "30/30 [==============================] - 0s 7ms/step - loss: 0.0264 - accuracy: 1.0000 - val_loss: 0.1480 - val_accuracy: 0.9664\n",
            "Epoch 74/100\n",
            "30/30 [==============================] - 0s 6ms/step - loss: 0.0272 - accuracy: 0.9979 - val_loss: 0.1435 - val_accuracy: 0.9664\n",
            "Epoch 75/100\n",
            "30/30 [==============================] - 0s 6ms/step - loss: 0.0262 - accuracy: 0.9990 - val_loss: 0.1340 - val_accuracy: 0.9664\n",
            "Epoch 76/100\n",
            "30/30 [==============================] - 0s 7ms/step - loss: 0.0312 - accuracy: 0.9979 - val_loss: 0.1392 - val_accuracy: 0.9616\n",
            "Epoch 77/100\n",
            "30/30 [==============================] - 0s 7ms/step - loss: 0.0293 - accuracy: 0.9979 - val_loss: 0.1386 - val_accuracy: 0.9664\n",
            "Epoch 78/100\n",
            "30/30 [==============================] - 0s 6ms/step - loss: 0.0384 - accuracy: 0.9948 - val_loss: 0.2063 - val_accuracy: 0.9520\n",
            "Epoch 79/100\n",
            "30/30 [==============================] - 0s 6ms/step - loss: 0.0347 - accuracy: 0.9979 - val_loss: 0.1472 - val_accuracy: 0.9592\n",
            "Epoch 80/100\n",
            "30/30 [==============================] - 0s 7ms/step - loss: 0.0361 - accuracy: 0.9958 - val_loss: 0.1403 - val_accuracy: 0.9616\n",
            "Epoch 81/100\n",
            "30/30 [==============================] - 0s 6ms/step - loss: 0.0333 - accuracy: 0.9958 - val_loss: 0.1492 - val_accuracy: 0.9640\n",
            "Epoch 82/100\n",
            "30/30 [==============================] - 0s 7ms/step - loss: 0.0253 - accuracy: 0.9990 - val_loss: 0.1439 - val_accuracy: 0.9688\n",
            "Epoch 83/100\n",
            "30/30 [==============================] - 0s 6ms/step - loss: 0.0258 - accuracy: 0.9979 - val_loss: 0.1573 - val_accuracy: 0.9664\n",
            "Epoch 84/100\n",
            "30/30 [==============================] - 0s 6ms/step - loss: 0.0226 - accuracy: 1.0000 - val_loss: 0.1463 - val_accuracy: 0.9640\n",
            "Epoch 85/100\n",
            "30/30 [==============================] - 0s 6ms/step - loss: 0.0227 - accuracy: 0.9990 - val_loss: 0.1409 - val_accuracy: 0.9664\n",
            "Epoch 86/100\n",
            "30/30 [==============================] - 0s 6ms/step - loss: 0.0311 - accuracy: 0.9969 - val_loss: 0.1402 - val_accuracy: 0.9688\n",
            "Epoch 87/100\n",
            "30/30 [==============================] - 0s 6ms/step - loss: 0.0306 - accuracy: 0.9958 - val_loss: 0.1614 - val_accuracy: 0.9640\n",
            "Epoch 88/100\n",
            "30/30 [==============================] - 0s 7ms/step - loss: 0.0286 - accuracy: 0.9979 - val_loss: 0.1567 - val_accuracy: 0.9568\n",
            "Epoch 89/100\n",
            "30/30 [==============================] - 0s 7ms/step - loss: 0.0260 - accuracy: 0.9979 - val_loss: 0.1438 - val_accuracy: 0.9688\n",
            "Epoch 90/100\n",
            "30/30 [==============================] - 0s 6ms/step - loss: 0.0247 - accuracy: 0.9979 - val_loss: 0.1722 - val_accuracy: 0.9640\n",
            "Epoch 91/100\n",
            "30/30 [==============================] - 0s 7ms/step - loss: 0.0298 - accuracy: 0.9948 - val_loss: 0.1539 - val_accuracy: 0.9688\n",
            "Epoch 92/100\n",
            "30/30 [==============================] - 0s 6ms/step - loss: 0.0241 - accuracy: 0.9979 - val_loss: 0.1559 - val_accuracy: 0.9640\n",
            "Epoch 93/100\n",
            "30/30 [==============================] - 0s 7ms/step - loss: 0.0266 - accuracy: 0.9979 - val_loss: 0.1514 - val_accuracy: 0.9712\n",
            "Epoch 94/100\n",
            "30/30 [==============================] - 0s 6ms/step - loss: 0.0316 - accuracy: 0.9937 - val_loss: 0.1490 - val_accuracy: 0.9640\n",
            "Epoch 95/100\n",
            "30/30 [==============================] - 0s 6ms/step - loss: 0.0236 - accuracy: 0.9990 - val_loss: 0.1616 - val_accuracy: 0.9664\n",
            "Epoch 96/100\n",
            "30/30 [==============================] - 0s 6ms/step - loss: 0.0256 - accuracy: 0.9969 - val_loss: 0.2024 - val_accuracy: 0.9640\n",
            "Epoch 97/100\n",
            "30/30 [==============================] - 0s 6ms/step - loss: 0.0252 - accuracy: 0.9958 - val_loss: 0.1698 - val_accuracy: 0.9664\n",
            "Epoch 98/100\n",
            "30/30 [==============================] - 0s 7ms/step - loss: 0.0226 - accuracy: 0.9990 - val_loss: 0.1696 - val_accuracy: 0.9688\n",
            "Epoch 99/100\n",
            "30/30 [==============================] - 0s 6ms/step - loss: 0.0274 - accuracy: 0.9958 - val_loss: 0.1623 - val_accuracy: 0.9568\n",
            "Epoch 100/100\n",
            "30/30 [==============================] - 0s 6ms/step - loss: 0.0260 - accuracy: 0.9979 - val_loss: 0.1593 - val_accuracy: 0.9616\n"
          ]
        }
      ]
    },
    {
      "cell_type": "code",
      "source": [
        "plot_hist(hist)"
      ],
      "metadata": {
        "id": "Mj3ITeM2sgxb"
      },
      "execution_count": null,
      "outputs": []
    },
    {
      "cell_type": "code",
      "source": [
        "test_error, test_accuracy = classifier_model.evaluate(x_test, y_test, verbose=1)\n",
        "print(f\"Test accuracy: {test_accuracy}\")\n",
        "\n",
        "y_pred = classifier_model.predict(x_test)\n",
        "y_pred_labels = np.argmax(y_pred, axis=1)\n",
        "print(y_pred.shape)"
      ],
      "metadata": {
        "id": "1kSaKHMNshG5",
        "colab": {
          "base_uri": "https://localhost:8080/"
        },
        "outputId": "4b4a7fcb-4735-4c29-fb5a-75064f5ad1d1"
      },
      "execution_count": null,
      "outputs": [
        {
          "output_type": "stream",
          "name": "stdout",
          "text": [
            "14/14 [==============================] - 0s 3ms/step - loss: 0.1593 - accuracy: 0.9616\n",
            "Test accuracy: 0.9616307020187378\n",
            "(417, 10)\n"
          ]
        }
      ]
    }
  ]
}